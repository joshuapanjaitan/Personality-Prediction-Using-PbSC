{
 "cells": [
  {
   "cell_type": "code",
   "execution_count": 1,
   "metadata": {},
   "outputs": [],
   "source": [
    "import pbsc as pbsc\n",
    "from tkinter import *\n",
    "import tkinter as tk"
   ]
  },
  {
   "cell_type": "code",
   "execution_count": 2,
   "metadata": {},
   "outputs": [],
   "source": [
    "class MyWindow:\n",
    "    def __init__(self, win):\n",
    "        lbl = Label(window, text=\"Prediksi Kepribadian dengan Algoritma PbSC\",\n",
    "                    fg='#4f8a8b', font=(\"Helvetica\", 10))\n",
    "        lbl.place(x=90, y=50)\n",
    "        self.lbl1 = Label(win, text='Username Twitter')\n",
    "        self.lbl3 = Label(win, text='Extroversion')\n",
    "        self.lbl4 = Label(win, text='Agreeableness')\n",
    "        self.lbl5 = Label(win, text='Conscientiousness')\n",
    "        self.textSC = tk.StringVar()\n",
    "        self.textER = tk.StringVar()\n",
    "        self.textSC.set(\"\")\n",
    "        self.textER.set(\"\")\n",
    "        self.notif = tk.Label(win, textvariable=self.textSC, fg='green')\n",
    "        self.error = tk.Label(win, textvariable=self.textER, fg='red')\n",
    "        self.t1 = Entry(bd=3)\n",
    "        self.t3 = Entry()\n",
    "        self.t4 = Entry()\n",
    "        self.t5 = Entry()\n",
    "        self.btn1 = Button(win, text='Predict')\n",
    "        self.lbl1.place(x=100, y=100)\n",
    "        self.t1.place(x=220, y=100)\n",
    "        self.b1 = Button(win, text='Predict', command=self.add)\n",
    "        self.notif.place(x=100, y=210)\n",
    "        self.error.place(x=100, y=200)\n",
    "        self.b1.place(x=100, y=150)\n",
    "        self.lbl3.place(x=100, y=270)\n",
    "        self.t3.place(x=220, y=270)\n",
    "        self.lbl4.place(x=100, y=320)\n",
    "        self.t4.place(x=220, y=320)\n",
    "        self.lbl5.place(x=100, y=370)\n",
    "        self.t5.place(x=220, y=370)\n",
    "\n",
    "    def add(self):\n",
    "        self.t3.delete(0, 'end')\n",
    "        self.t4.delete(0, 'end')\n",
    "        self.t5.delete(0, 'end')\n",
    "        username = str(self.t1.get())\n",
    "        try:\n",
    "            result = pbsc.pbsc(username)\n",
    "            self.t3.insert(END, str(result[1]))\n",
    "            self.t4.insert(END, str(result[2]))\n",
    "            self.t5.insert(END, str(result[3]))\n",
    "            self.textSC.set(\"Berikut hasil kepribadian mu \"+username)\n",
    "            self.textER.set(\"\")\n",
    "        except:\n",
    "            self.textER.set(\n",
    "                username+\" tidak berhasil di crawl \\n pastikan username sudah benar dan akun tidak di privete \\n atau periksa koneksi internet anda\")\n"
   ]
  },
  {
   "cell_type": "code",
   "execution_count": 5,
   "metadata": {},
   "outputs": [],
   "source": [
    "window = Tk()\n",
    "mywin = MyWindow(window)\n",
    "window.title('Hello Python')\n",
    "window.geometry(\"420x500+10+10\")\n",
    "window.mainloop()\n"
   ]
  },
  {
   "cell_type": "code",
   "execution_count": null,
   "metadata": {},
   "outputs": [],
   "source": []
  }
 ],
 "metadata": {
  "kernelspec": {
   "display_name": "Python 3.7.3 32-bit",
   "language": "python",
   "name": "python37332bit1d497b665b5541559134f2d08081d304"
  },
  "language_info": {
   "codemirror_mode": {
    "name": "ipython",
    "version": 3
   },
   "file_extension": ".py",
   "mimetype": "text/x-python",
   "name": "python",
   "nbconvert_exporter": "python",
   "pygments_lexer": "ipython3",
   "version": "3.7.3"
  }
 },
 "nbformat": 4,
 "nbformat_minor": 2
}
