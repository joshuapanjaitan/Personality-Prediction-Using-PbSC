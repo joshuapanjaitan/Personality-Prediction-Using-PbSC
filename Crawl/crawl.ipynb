{
 "cells": [
  {
   "cell_type": "markdown",
   "metadata": {},
   "source": [
    "# Crawling\n",
    "Pada proses ini dilakukan proses crawling/mencari 450 tweet terbaru dari target user. \n",
    "pada variabel username = [''] bisa diisikan target username yg ingin anda jadikan target."
   ]
  },
  {
   "cell_type": "code",
   "execution_count": 8,
   "metadata": {},
   "outputs": [],
   "source": [
    "import tweepy\n",
    "from textblob import TextBlob\n",
    "import numpy as np\n",
    "import csv\n",
    "import datetime\n",
    "import pandas as pd"
   ]
  },
  {
   "cell_type": "code",
   "execution_count": 9,
   "metadata": {},
   "outputs": [],
   "source": [
    "spam = ['automatically checked by', 'KkRY0Y',\n",
    "        'Today stats']  # special bot char"
   ]
  },
  {
   "cell_type": "code",
   "execution_count": 10,
   "metadata": {},
   "outputs": [],
   "source": [
    "# API key for twitter\n",
    "consumer_key = 'Z46tloZwrCEXOd4FlYdoBMn2B'\n",
    "consumer_secret = 'Ko3QgCOXK2k3GwfrvLaAr0Mk0Z6k2TRGgVAS3qncDNFcdEEkjY'\n",
    "\n",
    "access_key = '1565715805-E8IdQiws12noARIyEUxeqQeiXnkE64Qs9z9XZ5q'\n",
    "access_secret = '0jJ2cnlSH59Kcgagj1W8zqaYGB9Uj2RS11uPBWCTz99c0'"
   ]
  },
  {
   "cell_type": "code",
   "execution_count": 11,
   "metadata": {},
   "outputs": [],
   "source": [
    "\n",
    "def get_tweets(username):\n",
    "    auth = tweepy.OAuthHandler(consumer_key, consumer_secret)\n",
    "    auth.set_access_token(access_key, access_secret)\n",
    "    api = tweepy.API(auth)\n",
    "\n",
    "    # tweets = api.user_timeline(\n",
    "    #   screen_name=username, count=200, page=0)\n",
    "    pages = []  # store indo tweets\n",
    "    for t in range(10):\n",
    "        store = api.user_timeline(\n",
    "            screen_name=username, count=200, page=t, tweet_mode='extended')\n",
    "        for v in store:\n",
    "            tweet = v.full_text\n",
    "            lang = v.lang\n",
    "            if lang == 'in':  # get only indo tweet\n",
    "                if len(tweet) > 1:\n",
    "                    rtCek = tweet[0]+tweet[1]\n",
    "                    if rtCek != 'RT':\n",
    "                        if spam[0] not in tweet and spam[1] not in tweet and spam[2] not in tweet:\n",
    "                            pages.append(v.full_text)\n",
    "\n",
    "    #tulis tweet yang sudah di crawl ke csv\n",
    "    with open(username+\".csv\", 'w', newline='') as f:\n",
    "        tulis = csv.writer(f)\n",
    "        for j in range(len(pages)):\n",
    "            v = str(pages[j])\n",
    "            g = str(v.encode('unicode-escape'))  # emoji ubah ke unicode\n",
    "            tulis.writerow([g])\n",
    "            if j == 450:  # jumlah row\n",
    "                break"
   ]
  },
  {
   "cell_type": "code",
   "execution_count": 12,
   "metadata": {},
   "outputs": [],
   "source": [
    "if __name__ == '__main__':\n",
    "    username = ['@jooshpn']  # masukkan username target\n",
    "    for uname in username:\n",
    "        get_tweets(uname)"
   ]
  },
  {
   "cell_type": "code",
   "execution_count": 13,
   "metadata": {},
   "outputs": [
    {
     "data": {
      "text/html": [
       "<div>\n",
       "<style scoped>\n",
       "    .dataframe tbody tr th:only-of-type {\n",
       "        vertical-align: middle;\n",
       "    }\n",
       "\n",
       "    .dataframe tbody tr th {\n",
       "        vertical-align: top;\n",
       "    }\n",
       "\n",
       "    .dataframe thead th {\n",
       "        text-align: right;\n",
       "    }\n",
       "</style>\n",
       "<table border=\"1\" class=\"dataframe\">\n",
       "  <thead>\n",
       "    <tr style=\"text-align: right;\">\n",
       "      <th></th>\n",
       "      <th>tweet</th>\n",
       "    </tr>\n",
       "  </thead>\n",
       "  <tbody>\n",
       "    <tr>\n",
       "      <td>0</td>\n",
       "      <td>b'@yolanda_n28 iya kan, emg ngeselin'</td>\n",
       "    </tr>\n",
       "    <tr>\n",
       "      <td>1</td>\n",
       "      <td>b'apa cm aku yg benci bet liat slide yg isinya kata2 semua?'</td>\n",
       "    </tr>\n",
       "    <tr>\n",
       "      <td>2</td>\n",
       "      <td>b'yaa anak jaman sekarang emg jago2 pakai teknologi2 onlen'</td>\n",
       "    </tr>\n",
       "    <tr>\n",
       "      <td>3</td>\n",
       "      <td>b'pelajaran hari ini : bahkan bosnya g-suite belajar pakai g-suite dari anaknya..'</td>\n",
       "    </tr>\n",
       "    <tr>\n",
       "      <td>4</td>\n",
       "      <td>b'@CoachJustinL klopp keknya ngelawak coc, jadi malas deh nonton pool,'</td>\n",
       "    </tr>\n",
       "    <tr>\n",
       "      <td>...</td>\n",
       "      <td>...</td>\n",
       "    </tr>\n",
       "    <tr>\n",
       "      <td>446</td>\n",
       "      <td>b'@CoachJustinL gatau coc'</td>\n",
       "    </tr>\n",
       "    <tr>\n",
       "      <td>447</td>\n",
       "      <td>b'baru sadar kalau besok ada acara,, dan udh terlanjur begadang buat nonton nihh bola\\\\U0001f926\\\\u200d\\\\u2642\\\\ufe0f\\\\U0001f926\\\\u200d\\\\u2642\\\\ufe0f'</td>\n",
       "    </tr>\n",
       "    <tr>\n",
       "      <td>448</td>\n",
       "      <td>b'@CoachJustinL udah,, blok aja coc'</td>\n",
       "    </tr>\n",
       "    <tr>\n",
       "      <td>449</td>\n",
       "      <td>b'semangats jo, kamu punya tuhan yg tidak pernah menyerah buat mu..'</td>\n",
       "    </tr>\n",
       "    <tr>\n",
       "      <td>450</td>\n",
       "      <td>b'astaga,, ini aku terkadang suka banget ambil keputusan yang salah, padahal udh di timbang2 tetap aja rasa ragu itu ada. apakah cuma aku ? \\\\U0001f61e'</td>\n",
       "    </tr>\n",
       "  </tbody>\n",
       "</table>\n",
       "<p>451 rows × 1 columns</p>\n",
       "</div>"
      ],
      "text/plain": [
       "                                                                                                                                                        tweet\n",
       "0    b'@yolanda_n28 iya kan, emg ngeselin'                                                                                                                   \n",
       "1    b'apa cm aku yg benci bet liat slide yg isinya kata2 semua?'                                                                                            \n",
       "2    b'yaa anak jaman sekarang emg jago2 pakai teknologi2 onlen'                                                                                             \n",
       "3    b'pelajaran hari ini : bahkan bosnya g-suite belajar pakai g-suite dari anaknya..'                                                                      \n",
       "4    b'@CoachJustinL klopp keknya ngelawak coc, jadi malas deh nonton pool,'                                                                                 \n",
       "..                                                                       ...                                                                                 \n",
       "446  b'@CoachJustinL gatau coc'                                                                                                                              \n",
       "447  b'baru sadar kalau besok ada acara,, dan udh terlanjur begadang buat nonton nihh bola\\\\U0001f926\\\\u200d\\\\u2642\\\\ufe0f\\\\U0001f926\\\\u200d\\\\u2642\\\\ufe0f'  \n",
       "448  b'@CoachJustinL udah,, blok aja coc'                                                                                                                    \n",
       "449  b'semangats jo, kamu punya tuhan yg tidak pernah menyerah buat mu..'                                                                                    \n",
       "450  b'astaga,, ini aku terkadang suka banget ambil keputusan yang salah, padahal udh di timbang2 tetap aja rasa ragu itu ada. apakah cuma aku ? \\\\U0001f61e'\n",
       "\n",
       "[451 rows x 1 columns]"
      ]
     },
     "execution_count": 13,
     "metadata": {},
     "output_type": "execute_result"
    }
   ],
   "source": [
    "data = pd.read_csv(username[0]+'.csv', usecols=[0], names=['tweet'])\n",
    "pd.set_option('display.max_colwidth', -1)\n",
    "data"
   ]
  },
  {
   "cell_type": "code",
   "execution_count": null,
   "metadata": {},
   "outputs": [],
   "source": []
  }
 ],
 "metadata": {
  "kernelspec": {
   "display_name": "Python 3",
   "language": "python",
   "name": "python3"
  },
  "language_info": {
   "codemirror_mode": {
    "name": "ipython",
    "version": 3
   },
   "file_extension": ".py",
   "mimetype": "text/x-python",
   "name": "python",
   "nbconvert_exporter": "python",
   "pygments_lexer": "ipython3",
   "version": "3.7.3"
  }
 },
 "nbformat": 4,
 "nbformat_minor": 2
}
