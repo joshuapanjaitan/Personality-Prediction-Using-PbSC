{
 "cells": [
  {
   "cell_type": "code",
   "execution_count": 5,
   "metadata": {},
   "outputs": [],
   "source": [
    "# remove yg URL, dll.\n",
    "import tweepy\n",
    "from textblob import TextBlob\n",
    "import numpy as np\n",
    "import csv\n",
    "import datetime\n",
    "import nltk\n",
    "from nltk.tokenize import TweetTokenizer\n",
    "from collections import defaultdict\n",
    "import re\n",
    "import pandas as pd"
   ]
  },
  {
   "cell_type": "code",
   "execution_count": 6,
   "metadata": {},
   "outputs": [],
   "source": [
    "uname = ['@jooshpn'] #ganti dengan username twitter target\n",
    "newSentence = []\n",
    "userTw = []"
   ]
  },
  {
   "cell_type": "code",
   "execution_count": 7,
   "metadata": {},
   "outputs": [],
   "source": [
    "for nama in uname:\n",
    "    with open(nama+\".csv\", 'r') as csv_file:\n",
    "        csv_reader = csv.reader(csv_file)\n",
    "        for line in csv_reader:\n",
    "            userTw.append(line)\n",
    "\n",
    "    for i in range(len(userTw)):\n",
    "        sent = ''.join(userTw[i].copy())\n",
    "        token = sent.split()\n",
    "        newToken = sent.split()\n",
    "        for x in range(len(token)):\n",
    "            # tambahkan fitur yg mau dihapus\n",
    "            if 'http' in token[x]:\n",
    "                newToken.remove(token[x])\n",
    "            elif 'ue6f4' in token[x]:\n",
    "                newToken.remove(token[x])\n",
    "        concate = ' '.join(newToken).lower()\n",
    "        newSentence.append(concate)\n",
    "\n",
    "    with open(nama+\".csv\", 'w', newline='') as f:\n",
    "        tulis = csv.writer(f)\n",
    "        for j in range(len(newSentence)):\n",
    "            tulis.writerow([newSentence[j]])\n",
    "    newSentence = []\n",
    "    userTw = []\n"
   ]
  },
  {
   "cell_type": "code",
   "execution_count": 8,
   "metadata": {},
   "outputs": [
    {
     "data": {
      "text/html": [
       "<div>\n",
       "<style scoped>\n",
       "    .dataframe tbody tr th:only-of-type {\n",
       "        vertical-align: middle;\n",
       "    }\n",
       "\n",
       "    .dataframe tbody tr th {\n",
       "        vertical-align: top;\n",
       "    }\n",
       "\n",
       "    .dataframe thead th {\n",
       "        text-align: right;\n",
       "    }\n",
       "</style>\n",
       "<table border=\"1\" class=\"dataframe\">\n",
       "  <thead>\n",
       "    <tr style=\"text-align: right;\">\n",
       "      <th></th>\n",
       "      <th>tweet</th>\n",
       "    </tr>\n",
       "  </thead>\n",
       "  <tbody>\n",
       "    <tr>\n",
       "      <td>0</td>\n",
       "      <td>@yolanda_n28 iya kan, emg ngeselin</td>\n",
       "    </tr>\n",
       "    <tr>\n",
       "      <td>1</td>\n",
       "      <td>apa cm aku yg benci bet liat slide yg isinya kata2 semua?</td>\n",
       "    </tr>\n",
       "    <tr>\n",
       "      <td>2</td>\n",
       "      <td>yaa anak jaman sekarang emg jago2 pakai teknologi2 onlen</td>\n",
       "    </tr>\n",
       "    <tr>\n",
       "      <td>3</td>\n",
       "      <td>pelajaran hari ini : bahkan bosnya g-suite belajar pakai g-suite dari anaknya..</td>\n",
       "    </tr>\n",
       "    <tr>\n",
       "      <td>4</td>\n",
       "      <td>@coachjustinl klopp keknya ngelawak coc, jadi malas deh nonton pool,</td>\n",
       "    </tr>\n",
       "    <tr>\n",
       "      <td>...</td>\n",
       "      <td>...</td>\n",
       "    </tr>\n",
       "    <tr>\n",
       "      <td>446</td>\n",
       "      <td>@coachjustinl gatau coc</td>\n",
       "    </tr>\n",
       "    <tr>\n",
       "      <td>447</td>\n",
       "      <td>baru sadar kalau besok ada acara,, dan udh terlanjur begadang buat nonton nihh bola ufe0f ufe0f</td>\n",
       "    </tr>\n",
       "    <tr>\n",
       "      <td>448</td>\n",
       "      <td>@coachjustinl udah,, blok aja coc</td>\n",
       "    </tr>\n",
       "    <tr>\n",
       "      <td>449</td>\n",
       "      <td>semangats jo, kamu punya tuhan yg tidak pernah menyerah buat mu..</td>\n",
       "    </tr>\n",
       "    <tr>\n",
       "      <td>450</td>\n",
       "      <td>astaga,, ini aku terkadang suka banget ambil keputusan yang salah, padahal udh di timbang2 tetap aja rasa ragu itu ada. apakah cuma aku ? #disappointed face#</td>\n",
       "    </tr>\n",
       "  </tbody>\n",
       "</table>\n",
       "<p>451 rows × 1 columns</p>\n",
       "</div>"
      ],
      "text/plain": [
       "                                                                                                                                                             tweet\n",
       "0    @yolanda_n28 iya kan, emg ngeselin                                                                                                                           \n",
       "1    apa cm aku yg benci bet liat slide yg isinya kata2 semua?                                                                                                    \n",
       "2    yaa anak jaman sekarang emg jago2 pakai teknologi2 onlen                                                                                                     \n",
       "3    pelajaran hari ini : bahkan bosnya g-suite belajar pakai g-suite dari anaknya..                                                                              \n",
       "4    @coachjustinl klopp keknya ngelawak coc, jadi malas deh nonton pool,                                                                                         \n",
       "..                                                                    ...                                                                                         \n",
       "446  @coachjustinl gatau coc                                                                                                                                      \n",
       "447  baru sadar kalau besok ada acara,, dan udh terlanjur begadang buat nonton nihh bola ufe0f ufe0f                                                              \n",
       "448  @coachjustinl udah,, blok aja coc                                                                                                                            \n",
       "449  semangats jo, kamu punya tuhan yg tidak pernah menyerah buat mu..                                                                                            \n",
       "450  astaga,, ini aku terkadang suka banget ambil keputusan yang salah, padahal udh di timbang2 tetap aja rasa ragu itu ada. apakah cuma aku ? #disappointed face#\n",
       "\n",
       "[451 rows x 1 columns]"
      ]
     },
     "execution_count": 8,
     "metadata": {},
     "output_type": "execute_result"
    }
   ],
   "source": [
    "data = pd.read_csv(uname[0]+'.csv', usecols=[0], names=['tweet'])\n",
    "pd.set_option('display.max_colwidth', -1)\n",
    "data"
   ]
  },
  {
   "cell_type": "code",
   "execution_count": null,
   "metadata": {},
   "outputs": [],
   "source": []
  },
  {
   "cell_type": "code",
   "execution_count": null,
   "metadata": {},
   "outputs": [],
   "source": []
  }
 ],
 "metadata": {
  "kernelspec": {
   "display_name": "Python 3",
   "language": "python",
   "name": "python3"
  },
  "language_info": {
   "codemirror_mode": {
    "name": "ipython",
    "version": 3
   },
   "file_extension": ".py",
   "mimetype": "text/x-python",
   "name": "python",
   "nbconvert_exporter": "python",
   "pygments_lexer": "ipython3",
   "version": "3.7.3"
  }
 },
 "nbformat": 4,
 "nbformat_minor": 2
}
